{
    "nbformat_minor": 1, 
    "cells": [
        {
            "execution_count": 1, 
            "cell_type": "code", 
            "metadata": {}, 
            "outputs": [], 
            "source": "import numpy as np\nimport types\nimport pandas as pd\nfrom botocore.client import Config\nimport ibm_boto3\n"
        }, 
        {
            "execution_count": 2, 
            "cell_type": "code", 
            "metadata": {}, 
            "outputs": [
                {
                    "execution_count": 2, 
                    "metadata": {}, 
                    "data": {
                        "text/html": "<div>\n<style scoped>\n    .dataframe tbody tr th:only-of-type {\n        vertical-align: middle;\n    }\n\n    .dataframe tbody tr th {\n        vertical-align: top;\n    }\n\n    .dataframe thead th {\n        text-align: right;\n    }\n</style>\n<table border=\"1\" class=\"dataframe\">\n  <thead>\n    <tr style=\"text-align: right;\">\n      <th></th>\n      <th>Venue Name</th>\n      <th>Venue Category</th>\n      <th>Venue Latitude</th>\n      <th>Venue Longitude</th>\n    </tr>\n  </thead>\n  <tbody>\n    <tr>\n      <th>0</th>\n      <td>South Coast Roast</td>\n      <td>Coffee Shop</td>\n      <td>50.720913</td>\n      <td>-1.879085</td>\n    </tr>\n    <tr>\n      <th>1</th>\n      <td>DelMarco</td>\n      <td>Italian Restaurant</td>\n      <td>50.721370</td>\n      <td>-1.877221</td>\n    </tr>\n    <tr>\n      <th>2</th>\n      <td>Lower Gardens</td>\n      <td>Park</td>\n      <td>50.719323</td>\n      <td>-1.878195</td>\n    </tr>\n    <tr>\n      <th>3</th>\n      <td>Bournemouth Gardens</td>\n      <td>Park</td>\n      <td>50.718990</td>\n      <td>-1.877733</td>\n    </tr>\n    <tr>\n      <th>4</th>\n      <td>Bournemouth Square</td>\n      <td>Plaza</td>\n      <td>50.720156</td>\n      <td>-1.879563</td>\n    </tr>\n  </tbody>\n</table>\n</div>", 
                        "text/plain": "            Venue Name      Venue Category  Venue Latitude  Venue Longitude\n0    South Coast Roast         Coffee Shop       50.720913        -1.879085\n1             DelMarco  Italian Restaurant       50.721370        -1.877221\n2        Lower Gardens                Park       50.719323        -1.878195\n3  Bournemouth Gardens                Park       50.718990        -1.877733\n4   Bournemouth Square               Plaza       50.720156        -1.879563"
                    }, 
                    "output_type": "execute_result"
                }
            ], 
            "source": "# The code was removed by Watson Studio for sharing."
        }, 
        {
            "execution_count": null, 
            "cell_type": "code", 
            "metadata": {}, 
            "outputs": [], 
            "source": ""
        }
    ], 
    "metadata": {
        "kernelspec": {
            "display_name": "Python 3.6", 
            "name": "python3", 
            "language": "python"
        }, 
        "language_info": {
            "mimetype": "text/x-python", 
            "nbconvert_exporter": "python", 
            "version": "3.6.8", 
            "name": "python", 
            "file_extension": ".py", 
            "pygments_lexer": "ipython3", 
            "codemirror_mode": {
                "version": 3, 
                "name": "ipython"
            }
        }
    }, 
    "nbformat": 4
}